{
 "cells": [
  {
   "cell_type": "markdown",
   "metadata": {},
   "source": [
    "## Atividade Curta 5 - LeNet\n",
    "\n",
    "#### Aluno: 119891 - João Vitor Silva de Oliveira\n"
   ]
  },
  {
   "cell_type": "markdown",
   "metadata": {},
   "source": [
    "### Imports"
   ]
  },
  {
   "cell_type": "code",
   "execution_count": 88,
   "metadata": {},
   "outputs": [],
   "source": [
    "import torch\n",
    "import torch.nn as nn\n",
    "import torchvision\n",
    "import torchvision.transforms as transforms\n",
    "from torch.utils.tensorboard import SummaryWriter\n",
    "from torch.utils.data import DataLoader\n",
    "\n",
    "import matplotlib.pyplot as plt\n",
    "from tqdm import tqdm\n",
    "\n",
    "import copy\n",
    "  \n",
    "from datetime import datetime\n",
    "from torchsummary import summary\n",
    "import numpy as np\n",
    "\n",
    "\n",
    "torch.manual_seed(42)\n",
    "torch.cuda.manual_seed(42)\n"
   ]
  },
  {
   "cell_type": "markdown",
   "metadata": {},
   "source": [
    "### Implementação LeNet\n",
    "\n",
    "Foi adicionado o parâmetro `version` para a criação do modelo.\n",
    "Quando for informado `Relu` será utilizado somente essa função de ativação, quando for informado outro valor será utilizado `Sigmoid + Tanh`"
   ]
  },
  {
   "cell_type": "code",
   "execution_count": 55,
   "metadata": {},
   "outputs": [],
   "source": [
    "class LeNet(nn.Module) :\n",
    "  \n",
    "    def __init__(self, num_classes=10, n_channels=1, version='sigmoid_and_tanh'):\n",
    "        super(LeNet, self).__init__()\n",
    "\n",
    "        self.version = version\n",
    "        if version == 'sigmoid_and_tanh':\n",
    "            self.act1 = nn.Sigmoid()\n",
    "            self.act2 = nn.Tanh()\n",
    "        elif version == 'relu':\n",
    "            self.act1 = nn.ReLU() \n",
    "            self.act2 = nn.ReLU() \n",
    "        \n",
    "        self.conv1 = nn.Conv2d(in_channels=n_channels, out_channels=6, kernel_size=5, padding=2, stride=1)\n",
    "        self.pool = nn.AvgPool2d(kernel_size=2, stride=2)\n",
    "        \n",
    "        self.conv2 = nn.Conv2d(in_channels=6, out_channels=16, kernel_size=5, stride=1)\n",
    "\n",
    "        self.conv3 = nn.Conv2d(in_channels=16, out_channels=120, kernel_size=5)\n",
    "        \n",
    "        self.fc1 = nn.Linear(in_features=400, out_features=120)                  \n",
    "        self.fc2 = nn.Linear(in_features=120, out_features=84)    \n",
    "        self.fc3 = nn.Linear(in_features=84, out_features=num_classes)    \n",
    "        \n",
    "    def forward(self, x, debug=False):\n",
    "        x = self.conv1(x)\n",
    "        x = self.act1(x)\n",
    "        x = self.pool(x)\n",
    "        \n",
    "        x = self.conv2(x)\n",
    "        x = self.act1(x)\n",
    "        x = self.pool(x)\n",
    "        \n",
    "        # x = self.conv3(x)\n",
    "        # x = self.act1(x)\n",
    "       \n",
    "        x = torch.flatten(x, 1)\n",
    "\n",
    "        x = self.fc1(x)\n",
    "        x = self.act2(x)\n",
    "\n",
    "        x = self.fc2(x)\n",
    "        x = self.act2(x)\n",
    "\n",
    "        x = self.fc3(x)\n",
    "        \n",
    "        # x = torch.softmax(x, dim=1)\n",
    "        # print(x.shape)\n",
    "\n",
    "        return x"
   ]
  },
  {
   "cell_type": "markdown",
   "metadata": {},
   "source": [
    "### Dataloaders"
   ]
  },
  {
   "cell_type": "code",
   "execution_count": 56,
   "metadata": {},
   "outputs": [],
   "source": [
    "def get_data_cifar10(batch_size):\n",
    "    transform = transforms.Compose([\n",
    "        transforms.Resize(28),\n",
    "        transforms.ToTensor(),\n",
    "        transforms.Normalize(mean=[0.5],std=[0.5])\n",
    "    ])\n",
    "\n",
    "    train_dataset = torchvision.datasets.CIFAR10(root='./data/cifar10/train', train=True, download=True, transform=transform)\n",
    "    test_dataset = torchvision.datasets.CIFAR10(root='./data/cifar10/test', train=False, download=True, transform=transform)\n",
    "\n",
    "    trainloader = DataLoader(train_dataset, batch_size=batch_size, shuffle=True)\n",
    "    testloader = DataLoader(test_dataset, batch_size=batch_size, shuffle=False)\n",
    "\n",
    "    return trainloader, testloader, len(train_dataset.classes)"
   ]
  },
  {
   "cell_type": "code",
   "execution_count": 57,
   "metadata": {},
   "outputs": [],
   "source": [
    "def get_data_mnist (batch_size) :\n",
    "  \n",
    "    train_dataset = torchvision.datasets.mnist.MNIST( root=f'./data/mnist/train/', train=True, transform=torchvision.transforms.ToTensor(), download=True)\n",
    "    test_dataset = torchvision.datasets.mnist.MNIST( root=f'./data/mnist/test/', train=False, transform=torchvision.transforms.ToTensor(), download=True)\n",
    "\n",
    "    trainloader = DataLoader(train_dataset, batch_size=batch_size, shuffle=True)\n",
    "    testloader = DataLoader(test_dataset, batch_size=batch_size, shuffle=False)\n",
    "    \n",
    "    \n",
    "    return trainloader, testloader, len(train_dataset.classes)"
   ]
  },
  {
   "cell_type": "markdown",
   "metadata": {},
   "source": [
    "### Tensorboard"
   ]
  },
  {
   "cell_type": "code",
   "execution_count": 58,
   "metadata": {},
   "outputs": [],
   "source": [
    "def plot_histograms_tensorboard(writer, net, epoch):\n",
    "    writer.add_histogram('Bias/conv1',   net.conv1.bias,        epoch)\n",
    "    writer.add_histogram('Weight/conv1', net.conv1.weight,      epoch)\n",
    "    writer.add_histogram('Grad/conv1',   net.conv1.weight.grad, epoch)\n",
    "\n",
    "    writer.add_histogram('Bias/conv2',   net.conv2.bias,        epoch)\n",
    "    writer.add_histogram('Weight/conv2', net.conv2.weight,      epoch)\n",
    "    writer.add_histogram('Grad/conv2',   net.conv2.weight.grad, epoch)\n",
    "\n",
    "    writer.add_histogram('Bias/fc1',     net.fc1.bias,          epoch)\n",
    "    writer.add_histogram('Weight/fc1',   net.fc1.weight,        epoch)\n",
    "    writer.add_histogram('Grad/fc1',     net.fc1.weight.grad,   epoch)\n",
    "\n",
    "    writer.add_histogram('Bias/fc2',     net.fc2.bias,          epoch)\n",
    "    writer.add_histogram('Weight/fc2',   net.fc2.weight,        epoch)\n",
    "    writer.add_histogram('Grad/fc2',     net.fc2.weight.grad,   epoch)\n",
    "\n",
    "    writer.add_histogram('Bias/fc3',     net.fc3.bias,          epoch)\n",
    "    writer.add_histogram('Weight/fc3',   net.fc3.weight,        epoch)\n",
    "    writer.add_histogram('Grad/fc3',     net.fc3.weight.grad,   epoch)\n"
   ]
  },
  {
   "cell_type": "markdown",
   "metadata": {},
   "source": [
    "### Validação"
   ]
  },
  {
   "cell_type": "code",
   "execution_count": 59,
   "metadata": {},
   "outputs": [],
   "source": [
    "def validate ( model , data , device='cpu') :\n",
    "    model.eval()\n",
    "    correct = 0\n",
    "    sum = 0\n",
    "    \n",
    "    for idx, (test_x, test_label) in enumerate(data) : \n",
    "        test_x = test_x.to(device)\n",
    "        test_label = test_label.to(device)\n",
    "        predict_y = model( test_x ).detach()\n",
    "        predict_ys = torch.max( predict_y, axis=1 )[1]\n",
    "        sum = sum + test_x.size(0)\n",
    "        correct = correct + torch.sum(predict_ys == test_label)\n",
    "    \n",
    "    return correct*100./sum"
   ]
  },
  {
   "cell_type": "markdown",
   "metadata": {},
   "source": [
    "### Treinamento"
   ]
  },
  {
   "cell_type": "code",
   "execution_count": 60,
   "metadata": {},
   "outputs": [],
   "source": [
    "def train (model, train_loader, test_loader, batch_size, epochs=100, lr=1e-1, prefix='',\n",
    "           upper_bound=99.0, device='cpu', save=False, debug=False, plot_histograms=False, lambda_reg=0) :\n",
    "\n",
    "    optimizer = torch.optim.SGD(model.parameters(), lr, weight_decay=lambda_reg)\n",
    "    loss = nn.CrossEntropyLoss()\n",
    "\n",
    "    now = datetime.now()\n",
    "    suffix = now.strftime(\"%Y%m%d_%H%M%S\")\n",
    "    prefix = prefix + '-' + suffix if prefix != '' else suffix\n",
    "\n",
    "    writer = SummaryWriter( log_dir='./tensorboard/'+prefix )\n",
    "    \n",
    "    writer.add_graph(model, next(iter(train_loader))[0].to(device))\n",
    "\n",
    "    accuracies = []\n",
    "    max_accuracy = -1.0\n",
    "    dataset_size = len(train_loader.dataset)\n",
    "\n",
    "\n",
    "    for epoch in tqdm( range(epochs) , desc='Training epochs...' ) :\n",
    "        model.train()  \n",
    "        for idx, (train_x, train_label) in enumerate(train_loader):\n",
    "            train_x = train_x.to(device)\n",
    "            train_label = train_label.to(device)\n",
    "\n",
    "\n",
    "            optimizer.zero_grad()\n",
    "\n",
    "            predict_y = model( train_x )\n",
    "\n",
    "            # Loss:\n",
    "            error = loss( predict_y , train_label.long() )\n",
    "\n",
    "            writer.add_scalar( 'Loss/train', error, \n",
    "                            idx+( epoch*(dataset_size//batch_size) ) )\n",
    "\n",
    "            error.backward()\n",
    "            optimizer.step()\n",
    "\n",
    "            # Accuracy:\n",
    "            predict_ys = torch.max( predict_y, axis=1 )[1]\n",
    "            correct    = torch.sum(predict_ys == train_label)\n",
    "\n",
    "            writer.add_scalar( 'Accuracy/train', correct/train_x.size(0), \n",
    "                            idx+( epoch*(dataset_size//batch_size) ) )\n",
    "\n",
    "            if debug and idx % 10 == 0 :\n",
    "                print(f'idx: {idx}, _error: {error}')\n",
    "\n",
    "        if plot_histograms : \n",
    "            plot_histograms_tensorboard(writer, model, epoch)\n",
    "        \n",
    "        accuracy = validate(model, test_loader, device=device)\n",
    "        accuracies.append(accuracy.cpu())\n",
    "        writer.add_scalar( 'Accuracy/test', accuracy, epoch )\n",
    "    \n",
    "        if accuracy > max_accuracy:\n",
    "            best_model = copy.deepcopy(model)\n",
    "            max_accuracy = accuracy\n",
    "            print(f'Saving Best Model with Accuracy: {max_accuracy:3.4f}')\n",
    "            \n",
    "        print( f'Epoch: {epoch+1:3d} | Accuracy : {accuracy:3.4f}%' )\n",
    "\n",
    "        if accuracy > upper_bound :\n",
    "            break\n",
    "   \n",
    "    if save : \n",
    "        path = f'./LeNet5-{type(train_loader.dataset).__name__}-{max_accuracy:.2f}.pkl'\n",
    "        torch.save(best_model.state_dict(), path)\n",
    "        print('Model saved in:',path)\n",
    "  \n",
    "    plt.plot(accuracies)\n",
    "\n",
    "    writer.flush()\n",
    "    writer.close()\n",
    "    \n",
    "    return best_model"
   ]
  },
  {
   "cell_type": "markdown",
   "metadata": {},
   "source": [
    "## Execução"
   ]
  },
  {
   "cell_type": "markdown",
   "metadata": {},
   "source": [
    "### Mnist (Sigmoid + Tanh)"
   ]
  },
  {
   "cell_type": "code",
   "execution_count": 77,
   "metadata": {},
   "outputs": [
    {
     "name": "stdout",
     "output_type": "stream",
     "text": [
      "Running on cuda.\n"
     ]
    },
    {
     "name": "stderr",
     "output_type": "stream",
     "text": [
      "Training epochs...:   5%|▌         | 1/20 [00:07<02:31,  7.98s/it]"
     ]
    },
    {
     "name": "stdout",
     "output_type": "stream",
     "text": [
      "Saving Best Model with Accuracy: 10.2800\n",
      "Epoch:   1 | Accuracy : 10.2800%\n"
     ]
    },
    {
     "name": "stderr",
     "output_type": "stream",
     "text": [
      "Training epochs...:  10%|█         | 2/20 [00:16<02:24,  8.02s/it]"
     ]
    },
    {
     "name": "stdout",
     "output_type": "stream",
     "text": [
      "Saving Best Model with Accuracy: 87.2400\n",
      "Epoch:   2 | Accuracy : 87.2400%\n"
     ]
    },
    {
     "name": "stderr",
     "output_type": "stream",
     "text": [
      "Training epochs...:  15%|█▌        | 3/20 [00:23<02:15,  7.97s/it]"
     ]
    },
    {
     "name": "stdout",
     "output_type": "stream",
     "text": [
      "Saving Best Model with Accuracy: 92.2600\n",
      "Epoch:   3 | Accuracy : 92.2600%\n"
     ]
    },
    {
     "name": "stderr",
     "output_type": "stream",
     "text": [
      "Training epochs...:  20%|██        | 4/20 [00:31<02:06,  7.94s/it]"
     ]
    },
    {
     "name": "stdout",
     "output_type": "stream",
     "text": [
      "Saving Best Model with Accuracy: 94.3700\n",
      "Epoch:   4 | Accuracy : 94.3700%\n"
     ]
    },
    {
     "name": "stderr",
     "output_type": "stream",
     "text": [
      "Training epochs...:  25%|██▌       | 5/20 [00:39<01:58,  7.92s/it]"
     ]
    },
    {
     "name": "stdout",
     "output_type": "stream",
     "text": [
      "Saving Best Model with Accuracy: 95.7000\n",
      "Epoch:   5 | Accuracy : 95.7000%\n"
     ]
    },
    {
     "name": "stderr",
     "output_type": "stream",
     "text": [
      "Training epochs...:  30%|███       | 6/20 [00:47<01:50,  7.89s/it]"
     ]
    },
    {
     "name": "stdout",
     "output_type": "stream",
     "text": [
      "Saving Best Model with Accuracy: 96.2900\n",
      "Epoch:   6 | Accuracy : 96.2900%\n"
     ]
    },
    {
     "name": "stderr",
     "output_type": "stream",
     "text": [
      "Training epochs...:  35%|███▌      | 7/20 [00:55<01:42,  7.90s/it]"
     ]
    },
    {
     "name": "stdout",
     "output_type": "stream",
     "text": [
      "Epoch:   7 | Accuracy : 95.9900%\n"
     ]
    },
    {
     "name": "stderr",
     "output_type": "stream",
     "text": [
      "Training epochs...:  40%|████      | 8/20 [01:03<01:34,  7.90s/it]"
     ]
    },
    {
     "name": "stdout",
     "output_type": "stream",
     "text": [
      "Saving Best Model with Accuracy: 96.9800\n",
      "Epoch:   8 | Accuracy : 96.9800%\n"
     ]
    },
    {
     "name": "stderr",
     "output_type": "stream",
     "text": [
      "Training epochs...:  45%|████▌     | 9/20 [01:11<01:27,  7.95s/it]"
     ]
    },
    {
     "name": "stdout",
     "output_type": "stream",
     "text": [
      "Saving Best Model with Accuracy: 97.2300\n",
      "Epoch:   9 | Accuracy : 97.2300%\n"
     ]
    },
    {
     "name": "stderr",
     "output_type": "stream",
     "text": [
      "Training epochs...:  50%|█████     | 10/20 [01:19<01:19,  7.99s/it]"
     ]
    },
    {
     "name": "stdout",
     "output_type": "stream",
     "text": [
      "Epoch:  10 | Accuracy : 96.7500%\n"
     ]
    },
    {
     "name": "stderr",
     "output_type": "stream",
     "text": [
      "Training epochs...:  55%|█████▌    | 11/20 [01:27<01:11,  7.95s/it]"
     ]
    },
    {
     "name": "stdout",
     "output_type": "stream",
     "text": [
      "Saving Best Model with Accuracy: 98.1100\n",
      "Epoch:  11 | Accuracy : 98.1100%\n"
     ]
    },
    {
     "name": "stderr",
     "output_type": "stream",
     "text": [
      "Training epochs...:  60%|██████    | 12/20 [01:35<01:03,  7.91s/it]"
     ]
    },
    {
     "name": "stdout",
     "output_type": "stream",
     "text": [
      "Epoch:  12 | Accuracy : 97.9500%\n"
     ]
    },
    {
     "name": "stderr",
     "output_type": "stream",
     "text": [
      "Training epochs...:  65%|██████▌   | 13/20 [01:43<00:55,  7.90s/it]"
     ]
    },
    {
     "name": "stdout",
     "output_type": "stream",
     "text": [
      "Epoch:  13 | Accuracy : 98.0400%\n"
     ]
    },
    {
     "name": "stderr",
     "output_type": "stream",
     "text": [
      "Training epochs...:  70%|███████   | 14/20 [01:51<00:47,  7.92s/it]"
     ]
    },
    {
     "name": "stdout",
     "output_type": "stream",
     "text": [
      "Epoch:  14 | Accuracy : 97.8600%\n"
     ]
    },
    {
     "name": "stderr",
     "output_type": "stream",
     "text": [
      "Training epochs...:  75%|███████▌  | 15/20 [01:58<00:39,  7.92s/it]"
     ]
    },
    {
     "name": "stdout",
     "output_type": "stream",
     "text": [
      "Saving Best Model with Accuracy: 98.2900\n",
      "Epoch:  15 | Accuracy : 98.2900%\n"
     ]
    },
    {
     "name": "stderr",
     "output_type": "stream",
     "text": [
      "Training epochs...:  80%|████████  | 16/20 [02:06<00:31,  7.89s/it]"
     ]
    },
    {
     "name": "stdout",
     "output_type": "stream",
     "text": [
      "Epoch:  16 | Accuracy : 97.8500%\n"
     ]
    },
    {
     "name": "stderr",
     "output_type": "stream",
     "text": [
      "Training epochs...:  85%|████████▌ | 17/20 [02:14<00:23,  7.91s/it]"
     ]
    },
    {
     "name": "stdout",
     "output_type": "stream",
     "text": [
      "Saving Best Model with Accuracy: 98.4700\n",
      "Epoch:  17 | Accuracy : 98.4700%\n"
     ]
    },
    {
     "name": "stderr",
     "output_type": "stream",
     "text": [
      "Training epochs...:  90%|█████████ | 18/20 [02:22<00:15,  7.89s/it]"
     ]
    },
    {
     "name": "stdout",
     "output_type": "stream",
     "text": [
      "Epoch:  18 | Accuracy : 98.3600%\n"
     ]
    },
    {
     "name": "stderr",
     "output_type": "stream",
     "text": [
      "Training epochs...:  95%|█████████▌| 19/20 [02:30<00:07,  7.87s/it]"
     ]
    },
    {
     "name": "stdout",
     "output_type": "stream",
     "text": [
      "Epoch:  19 | Accuracy : 98.3800%\n"
     ]
    },
    {
     "name": "stderr",
     "output_type": "stream",
     "text": [
      "Training epochs...: 100%|██████████| 20/20 [02:38<00:00,  7.91s/it]"
     ]
    },
    {
     "name": "stdout",
     "output_type": "stream",
     "text": [
      "Epoch:  20 | Accuracy : 97.4600%\n",
      "Model saved in: ./LeNet5-MNIST-98.47.pkl\n"
     ]
    },
    {
     "name": "stderr",
     "output_type": "stream",
     "text": [
      "\n"
     ]
    },
    {
     "data": {
      "image/png": "[encoded data removed]",
      "text/plain": [
       "<Figure size 640x480 with 1 Axes>"
      ]
     },
     "metadata": {},
     "output_type": "display_data"
    }
   ],
   "source": [
    "if torch.cuda.is_available():\n",
    "    device = torch.device(\"cuda:0\")\n",
    "else:\n",
    "    device = torch.device(\"cpu\")\n",
    "print(f\"Running on {device.type}.\")\n",
    "\n",
    "epochs = 20\n",
    "lr = 0.1\n",
    "lambda_reg = 0\n",
    "batch_size = 64\n",
    "\n",
    "train_loader, test_loader, num_classes = get_data_mnist(batch_size=batch_size)\n",
    "\n",
    "model = LeNet(num_classes=num_classes, n_channels=1, version='sigmoid_and_tanh')\n",
    "\n",
    "model = model.to(device)\n",
    "\n",
    "prefix = 'MNIST-SigTanh-e-{}-lr-{}'.format(epochs, lr)\n",
    "\n",
    "best_model = train(model, train_loader, test_loader, batch_size, epochs, lr, prefix, device=device, save=True, debug=False, plot_histograms=False, lambda_reg=lambda_reg)\n"
   ]
  },
  {
   "cell_type": "markdown",
   "metadata": {},
   "source": [
    "### Mnist (Relu)"
   ]
  },
  {
   "cell_type": "code",
   "execution_count": 78,
   "metadata": {},
   "outputs": [
    {
     "name": "stderr",
     "output_type": "stream",
     "text": [
      "Training epochs...:   5%|▌         | 1/20 [00:07<02:31,  7.95s/it]"
     ]
    },
    {
     "name": "stdout",
     "output_type": "stream",
     "text": [
      "Saving Best Model with Accuracy: 95.1400\n",
      "Epoch:   1 | Accuracy : 95.1400%\n"
     ]
    },
    {
     "name": "stderr",
     "output_type": "stream",
     "text": [
      "Training epochs...:  10%|█         | 2/20 [00:15<02:22,  7.94s/it]"
     ]
    },
    {
     "name": "stdout",
     "output_type": "stream",
     "text": [
      "Saving Best Model with Accuracy: 97.4700\n",
      "Epoch:   2 | Accuracy : 97.4700%\n"
     ]
    },
    {
     "name": "stderr",
     "output_type": "stream",
     "text": [
      "Training epochs...:  15%|█▌        | 3/20 [00:23<02:15,  7.95s/it]"
     ]
    },
    {
     "name": "stdout",
     "output_type": "stream",
     "text": [
      "Saving Best Model with Accuracy: 98.2600\n",
      "Epoch:   3 | Accuracy : 98.2600%\n"
     ]
    },
    {
     "name": "stderr",
     "output_type": "stream",
     "text": [
      "Training epochs...:  20%|██        | 4/20 [00:31<02:06,  7.92s/it]"
     ]
    },
    {
     "name": "stdout",
     "output_type": "stream",
     "text": [
      "Saving Best Model with Accuracy: 98.7200\n",
      "Epoch:   4 | Accuracy : 98.7200%\n"
     ]
    },
    {
     "name": "stderr",
     "output_type": "stream",
     "text": [
      "Training epochs...:  25%|██▌       | 5/20 [00:39<01:58,  7.91s/it]"
     ]
    },
    {
     "name": "stdout",
     "output_type": "stream",
     "text": [
      "Saving Best Model with Accuracy: 98.8000\n",
      "Epoch:   5 | Accuracy : 98.8000%\n"
     ]
    },
    {
     "name": "stderr",
     "output_type": "stream",
     "text": [
      "Training epochs...:  30%|███       | 6/20 [00:47<01:50,  7.90s/it]"
     ]
    },
    {
     "name": "stdout",
     "output_type": "stream",
     "text": [
      "Saving Best Model with Accuracy: 99.0000\n",
      "Epoch:   6 | Accuracy : 99.0000%\n"
     ]
    },
    {
     "name": "stderr",
     "output_type": "stream",
     "text": [
      "Training epochs...:  35%|███▌      | 7/20 [00:55<01:43,  7.93s/it]"
     ]
    },
    {
     "name": "stdout",
     "output_type": "stream",
     "text": [
      "Epoch:   7 | Accuracy : 98.7200%\n"
     ]
    },
    {
     "name": "stderr",
     "output_type": "stream",
     "text": [
      "Training epochs...:  40%|████      | 8/20 [01:03<01:35,  7.97s/it]"
     ]
    },
    {
     "name": "stdout",
     "output_type": "stream",
     "text": [
      "Epoch:   8 | Accuracy : 98.7200%\n"
     ]
    },
    {
     "name": "stderr",
     "output_type": "stream",
     "text": [
      "Training epochs...:  45%|████▌     | 9/20 [01:11<01:27,  7.96s/it]"
     ]
    },
    {
     "name": "stdout",
     "output_type": "stream",
     "text": [
      "Epoch:   9 | Accuracy : 98.9900%\n"
     ]
    },
    {
     "name": "stderr",
     "output_type": "stream",
     "text": [
      "Training epochs...:  50%|█████     | 10/20 [01:19<01:19,  7.95s/it]"
     ]
    },
    {
     "name": "stdout",
     "output_type": "stream",
     "text": [
      "Epoch:  10 | Accuracy : 98.6300%\n"
     ]
    },
    {
     "name": "stderr",
     "output_type": "stream",
     "text": [
      "Training epochs...:  55%|█████▌    | 11/20 [01:27<01:11,  7.95s/it]"
     ]
    },
    {
     "name": "stdout",
     "output_type": "stream",
     "text": [
      "Epoch:  11 | Accuracy : 98.9400%\n"
     ]
    },
    {
     "name": "stderr",
     "output_type": "stream",
     "text": [
      "Training epochs...:  55%|█████▌    | 11/20 [01:35<01:17,  8.66s/it]"
     ]
    },
    {
     "name": "stdout",
     "output_type": "stream",
     "text": [
      "Saving Best Model with Accuracy: 99.0200\n",
      "Epoch:  12 | Accuracy : 99.0200%\n",
      "Model saved in: ./LeNet5-MNIST-99.02.pkl\n"
     ]
    },
    {
     "name": "stderr",
     "output_type": "stream",
     "text": [
      "\n"
     ]
    },
    {
     "data": {
      "image/png": "[encoded data removed]",
      "text/plain": [
       "<Figure size 640x480 with 1 Axes>"
      ]
     },
     "metadata": {},
     "output_type": "display_data"
    }
   ],
   "source": [
    "model = LeNet(num_classes=num_classes, n_channels=1, version='relu')\n",
    "\n",
    "model = model.to(device)\n",
    "\n",
    "prefix = 'MNIST-RELU-e-{}-lr-{}'.format(epochs, lr)\n",
    "\n",
    "best_model = train(model, train_loader, test_loader, batch_size, epochs, lr, prefix, device=device, save=True, debug=False, plot_histograms=False, lambda_reg=lambda_reg)"
   ]
  },
  {
   "cell_type": "markdown",
   "metadata": {},
   "source": [
    "### CIFAR10 (Sigmoid + Tanh)"
   ]
  },
  {
   "cell_type": "code",
   "execution_count": 80,
   "metadata": {},
   "outputs": [
    {
     "name": "stdout",
     "output_type": "stream",
     "text": [
      "Running on cuda.\n"
     ]
    },
    {
     "name": "stderr",
     "output_type": "stream",
     "text": [
      "Training epochs...:   5%|▌         | 1/20 [00:13<04:19, 13.67s/it]"
     ]
    },
    {
     "name": "stdout",
     "output_type": "stream",
     "text": [
      "Saving Best Model with Accuracy: 25.1200\n",
      "Epoch:   1 | Accuracy : 25.1200%\n"
     ]
    },
    {
     "name": "stderr",
     "output_type": "stream",
     "text": [
      "Training epochs...:  10%|█         | 2/20 [00:27<04:05, 13.65s/it]"
     ]
    },
    {
     "name": "stdout",
     "output_type": "stream",
     "text": [
      "Saving Best Model with Accuracy: 31.2000\n",
      "Epoch:   2 | Accuracy : 31.2000%\n"
     ]
    },
    {
     "name": "stderr",
     "output_type": "stream",
     "text": [
      "Training epochs...:  15%|█▌        | 3/20 [00:40<03:51, 13.63s/it]"
     ]
    },
    {
     "name": "stdout",
     "output_type": "stream",
     "text": [
      "Saving Best Model with Accuracy: 35.8300\n",
      "Epoch:   3 | Accuracy : 35.8300%\n"
     ]
    },
    {
     "name": "stderr",
     "output_type": "stream",
     "text": [
      "Training epochs...:  20%|██        | 4/20 [00:54<03:38, 13.66s/it]"
     ]
    },
    {
     "name": "stdout",
     "output_type": "stream",
     "text": [
      "Saving Best Model with Accuracy: 36.6700\n",
      "Epoch:   4 | Accuracy : 36.6700%\n"
     ]
    },
    {
     "name": "stderr",
     "output_type": "stream",
     "text": [
      "Training epochs...:  25%|██▌       | 5/20 [01:08<03:25, 13.70s/it]"
     ]
    },
    {
     "name": "stdout",
     "output_type": "stream",
     "text": [
      "Saving Best Model with Accuracy: 41.9900\n",
      "Epoch:   5 | Accuracy : 41.9900%\n"
     ]
    },
    {
     "name": "stderr",
     "output_type": "stream",
     "text": [
      "Training epochs...:  30%|███       | 6/20 [01:21<03:11, 13.65s/it]"
     ]
    },
    {
     "name": "stdout",
     "output_type": "stream",
     "text": [
      "Saving Best Model with Accuracy: 43.2500\n",
      "Epoch:   6 | Accuracy : 43.2500%\n"
     ]
    },
    {
     "name": "stderr",
     "output_type": "stream",
     "text": [
      "Training epochs...:  35%|███▌      | 7/20 [01:35<02:57, 13.67s/it]"
     ]
    },
    {
     "name": "stdout",
     "output_type": "stream",
     "text": [
      "Saving Best Model with Accuracy: 46.1900\n",
      "Epoch:   7 | Accuracy : 46.1900%\n"
     ]
    },
    {
     "name": "stderr",
     "output_type": "stream",
     "text": [
      "Training epochs...:  40%|████      | 8/20 [01:49<02:45, 13.77s/it]"
     ]
    },
    {
     "name": "stdout",
     "output_type": "stream",
     "text": [
      "Epoch:   8 | Accuracy : 45.6900%\n"
     ]
    },
    {
     "name": "stderr",
     "output_type": "stream",
     "text": [
      "Training epochs...:  45%|████▌     | 9/20 [02:03<02:31, 13.78s/it]"
     ]
    },
    {
     "name": "stdout",
     "output_type": "stream",
     "text": [
      "Saving Best Model with Accuracy: 49.8000\n",
      "Epoch:   9 | Accuracy : 49.8000%\n"
     ]
    },
    {
     "name": "stderr",
     "output_type": "stream",
     "text": [
      "Training epochs...:  50%|█████     | 10/20 [02:17<02:17, 13.73s/it]"
     ]
    },
    {
     "name": "stdout",
     "output_type": "stream",
     "text": [
      "Epoch:  10 | Accuracy : 48.5900%\n"
     ]
    },
    {
     "name": "stderr",
     "output_type": "stream",
     "text": [
      "Training epochs...:  55%|█████▌    | 11/20 [02:30<02:03, 13.70s/it]"
     ]
    },
    {
     "name": "stdout",
     "output_type": "stream",
     "text": [
      "Epoch:  11 | Accuracy : 46.0900%\n"
     ]
    },
    {
     "name": "stderr",
     "output_type": "stream",
     "text": [
      "Training epochs...:  60%|██████    | 12/20 [02:44<01:49, 13.65s/it]"
     ]
    },
    {
     "name": "stdout",
     "output_type": "stream",
     "text": [
      "Epoch:  12 | Accuracy : 49.3700%\n"
     ]
    },
    {
     "name": "stderr",
     "output_type": "stream",
     "text": [
      "Training epochs...:  65%|██████▌   | 13/20 [02:57<01:35, 13.65s/it]"
     ]
    },
    {
     "name": "stdout",
     "output_type": "stream",
     "text": [
      "Epoch:  13 | Accuracy : 47.9000%\n"
     ]
    },
    {
     "name": "stderr",
     "output_type": "stream",
     "text": [
      "Training epochs...:  70%|███████   | 14/20 [03:11<01:21, 13.65s/it]"
     ]
    },
    {
     "name": "stdout",
     "output_type": "stream",
     "text": [
      "Epoch:  14 | Accuracy : 49.7200%\n"
     ]
    },
    {
     "name": "stderr",
     "output_type": "stream",
     "text": [
      "Training epochs...:  75%|███████▌  | 15/20 [03:25<01:08, 13.68s/it]"
     ]
    },
    {
     "name": "stdout",
     "output_type": "stream",
     "text": [
      "Saving Best Model with Accuracy: 51.0100\n",
      "Epoch:  15 | Accuracy : 51.0100%\n"
     ]
    },
    {
     "name": "stderr",
     "output_type": "stream",
     "text": [
      "Training epochs...:  80%|████████  | 16/20 [03:38<00:54, 13.67s/it]"
     ]
    },
    {
     "name": "stdout",
     "output_type": "stream",
     "text": [
      "Saving Best Model with Accuracy: 51.6900\n",
      "Epoch:  16 | Accuracy : 51.6900%\n"
     ]
    },
    {
     "name": "stderr",
     "output_type": "stream",
     "text": [
      "Training epochs...:  85%|████████▌ | 17/20 [03:52<00:40, 13.62s/it]"
     ]
    },
    {
     "name": "stdout",
     "output_type": "stream",
     "text": [
      "Saving Best Model with Accuracy: 53.3100\n",
      "Epoch:  17 | Accuracy : 53.3100%\n"
     ]
    },
    {
     "name": "stderr",
     "output_type": "stream",
     "text": [
      "Training epochs...:  90%|█████████ | 18/20 [04:05<00:27, 13.59s/it]"
     ]
    },
    {
     "name": "stdout",
     "output_type": "stream",
     "text": [
      "Epoch:  18 | Accuracy : 49.3700%\n"
     ]
    },
    {
     "name": "stderr",
     "output_type": "stream",
     "text": [
      "Training epochs...:  95%|█████████▌| 19/20 [04:19<00:13, 13.57s/it]"
     ]
    },
    {
     "name": "stdout",
     "output_type": "stream",
     "text": [
      "Epoch:  19 | Accuracy : 49.9200%\n"
     ]
    },
    {
     "name": "stderr",
     "output_type": "stream",
     "text": [
      "Training epochs...: 100%|██████████| 20/20 [04:32<00:00, 13.65s/it]"
     ]
    },
    {
     "name": "stdout",
     "output_type": "stream",
     "text": [
      "Epoch:  20 | Accuracy : 52.5200%\n",
      "Model saved in: ./LeNet5-CIFAR10-53.31.pkl\n"
     ]
    },
    {
     "name": "stderr",
     "output_type": "stream",
     "text": [
      "\n"
     ]
    },
    {
     "data": {
      "image/png": "[encoded data removed]",
      "text/plain": [
       "<Figure size 640x480 with 1 Axes>"
      ]
     },
     "metadata": {},
     "output_type": "display_data"
    }
   ],
   "source": [
    "if torch.cuda.is_available():\n",
    "    device = torch.device(\"cuda:0\")\n",
    "else:\n",
    "    device = torch.device(\"cpu\")\n",
    "print(f\"Running on {device.type}.\")\n",
    "\n",
    "epochs = 20\n",
    "lr = 0.1\n",
    "lambda_reg = 0\n",
    "batch_size = 64\n",
    "\n",
    "train_loader, test_loader, num_classes = get_data_cifar10(batch_size=batch_size)\n",
    "\n",
    "model = LeNet(num_classes=num_classes, n_channels=3, version='sigmoid_and_tanh')\n",
    "\n",
    "model = model.to(device)\n",
    "\n",
    "prefix = 'CIFAR10-SigTanh-e-{}-lr-{}'.format(epochs, lr)\n",
    "\n",
    "best_model = train(model, train_loader, test_loader, batch_size, epochs, lr, prefix, device=device, save=True, debug=False, plot_histograms=False, lambda_reg=lambda_reg)\n"
   ]
  },
  {
   "cell_type": "markdown",
   "metadata": {},
   "source": [
    "### CIFAR10 (RELU)"
   ]
  },
  {
   "cell_type": "code",
   "execution_count": 81,
   "metadata": {},
   "outputs": [
    {
     "name": "stderr",
     "output_type": "stream",
     "text": [
      "Training epochs...:   5%|▌         | 1/20 [00:13<04:20, 13.73s/it]"
     ]
    },
    {
     "name": "stdout",
     "output_type": "stream",
     "text": [
      "Saving Best Model with Accuracy: 40.8900\n",
      "Epoch:   1 | Accuracy : 40.8900%\n"
     ]
    },
    {
     "name": "stderr",
     "output_type": "stream",
     "text": [
      "Training epochs...:  10%|█         | 2/20 [00:27<04:06, 13.71s/it]"
     ]
    },
    {
     "name": "stdout",
     "output_type": "stream",
     "text": [
      "Saving Best Model with Accuracy: 42.5700\n",
      "Epoch:   2 | Accuracy : 42.5700%\n"
     ]
    },
    {
     "name": "stderr",
     "output_type": "stream",
     "text": [
      "Training epochs...:  15%|█▌        | 3/20 [00:41<03:54, 13.79s/it]"
     ]
    },
    {
     "name": "stdout",
     "output_type": "stream",
     "text": [
      "Saving Best Model with Accuracy: 50.3700\n",
      "Epoch:   3 | Accuracy : 50.3700%\n"
     ]
    },
    {
     "name": "stderr",
     "output_type": "stream",
     "text": [
      "Training epochs...:  20%|██        | 4/20 [00:54<03:39, 13.73s/it]"
     ]
    },
    {
     "name": "stdout",
     "output_type": "stream",
     "text": [
      "Epoch:   4 | Accuracy : 47.6900%\n"
     ]
    },
    {
     "name": "stderr",
     "output_type": "stream",
     "text": [
      "Training epochs...:  25%|██▌       | 5/20 [01:08<03:26, 13.79s/it]"
     ]
    },
    {
     "name": "stdout",
     "output_type": "stream",
     "text": [
      "Saving Best Model with Accuracy: 55.2000\n",
      "Epoch:   5 | Accuracy : 55.2000%\n"
     ]
    },
    {
     "name": "stderr",
     "output_type": "stream",
     "text": [
      "Training epochs...:  30%|███       | 6/20 [01:22<03:12, 13.76s/it]"
     ]
    },
    {
     "name": "stdout",
     "output_type": "stream",
     "text": [
      "Epoch:   6 | Accuracy : 54.7700%\n"
     ]
    },
    {
     "name": "stderr",
     "output_type": "stream",
     "text": [
      "Training epochs...:  35%|███▌      | 7/20 [01:36<02:58, 13.77s/it]"
     ]
    },
    {
     "name": "stdout",
     "output_type": "stream",
     "text": [
      "Saving Best Model with Accuracy: 56.9000\n",
      "Epoch:   7 | Accuracy : 56.9000%\n"
     ]
    },
    {
     "name": "stderr",
     "output_type": "stream",
     "text": [
      "Training epochs...:  40%|████      | 8/20 [01:50<02:45, 13.75s/it]"
     ]
    },
    {
     "name": "stdout",
     "output_type": "stream",
     "text": [
      "Saving Best Model with Accuracy: 57.7100\n",
      "Epoch:   8 | Accuracy : 57.7100%\n"
     ]
    },
    {
     "name": "stderr",
     "output_type": "stream",
     "text": [
      "Training epochs...:  45%|████▌     | 9/20 [02:03<02:31, 13.78s/it]"
     ]
    },
    {
     "name": "stdout",
     "output_type": "stream",
     "text": [
      "Saving Best Model with Accuracy: 57.8200\n",
      "Epoch:   9 | Accuracy : 57.8200%\n"
     ]
    },
    {
     "name": "stderr",
     "output_type": "stream",
     "text": [
      "Training epochs...:  50%|█████     | 10/20 [02:17<02:17, 13.76s/it]"
     ]
    },
    {
     "name": "stdout",
     "output_type": "stream",
     "text": [
      "Epoch:  10 | Accuracy : 57.6500%\n"
     ]
    },
    {
     "name": "stderr",
     "output_type": "stream",
     "text": [
      "Training epochs...:  55%|█████▌    | 11/20 [02:31<02:03, 13.70s/it]"
     ]
    },
    {
     "name": "stdout",
     "output_type": "stream",
     "text": [
      "Epoch:  11 | Accuracy : 54.0500%\n"
     ]
    },
    {
     "name": "stderr",
     "output_type": "stream",
     "text": [
      "Training epochs...:  60%|██████    | 12/20 [02:44<01:49, 13.68s/it]"
     ]
    },
    {
     "name": "stdout",
     "output_type": "stream",
     "text": [
      "Saving Best Model with Accuracy: 59.8800\n",
      "Epoch:  12 | Accuracy : 59.8800%\n"
     ]
    },
    {
     "name": "stderr",
     "output_type": "stream",
     "text": [
      "Training epochs...:  65%|██████▌   | 13/20 [02:58<01:35, 13.66s/it]"
     ]
    },
    {
     "name": "stdout",
     "output_type": "stream",
     "text": [
      "Epoch:  13 | Accuracy : 58.9700%\n"
     ]
    },
    {
     "name": "stderr",
     "output_type": "stream",
     "text": [
      "Training epochs...:  70%|███████   | 14/20 [03:12<01:21, 13.67s/it]"
     ]
    },
    {
     "name": "stdout",
     "output_type": "stream",
     "text": [
      "Saving Best Model with Accuracy: 61.1400\n",
      "Epoch:  14 | Accuracy : 61.1400%\n"
     ]
    },
    {
     "name": "stderr",
     "output_type": "stream",
     "text": [
      "Training epochs...:  75%|███████▌  | 15/20 [03:25<01:08, 13.70s/it]"
     ]
    },
    {
     "name": "stdout",
     "output_type": "stream",
     "text": [
      "Epoch:  15 | Accuracy : 59.1300%\n"
     ]
    },
    {
     "name": "stderr",
     "output_type": "stream",
     "text": [
      "Training epochs...:  80%|████████  | 16/20 [03:39<00:54, 13.65s/it]"
     ]
    },
    {
     "name": "stdout",
     "output_type": "stream",
     "text": [
      "Epoch:  16 | Accuracy : 56.4800%\n"
     ]
    },
    {
     "name": "stderr",
     "output_type": "stream",
     "text": [
      "Training epochs...:  85%|████████▌ | 17/20 [03:53<00:40, 13.64s/it]"
     ]
    },
    {
     "name": "stdout",
     "output_type": "stream",
     "text": [
      "Epoch:  17 | Accuracy : 58.5600%\n"
     ]
    },
    {
     "name": "stderr",
     "output_type": "stream",
     "text": [
      "Training epochs...:  90%|█████████ | 18/20 [04:06<00:27, 13.63s/it]"
     ]
    },
    {
     "name": "stdout",
     "output_type": "stream",
     "text": [
      "Epoch:  18 | Accuracy : 57.8700%\n"
     ]
    },
    {
     "name": "stderr",
     "output_type": "stream",
     "text": [
      "Training epochs...:  95%|█████████▌| 19/20 [04:20<00:13, 13.61s/it]"
     ]
    },
    {
     "name": "stdout",
     "output_type": "stream",
     "text": [
      "Epoch:  19 | Accuracy : 60.2200%\n"
     ]
    },
    {
     "name": "stderr",
     "output_type": "stream",
     "text": [
      "Training epochs...: 100%|██████████| 20/20 [04:33<00:00, 13.69s/it]"
     ]
    },
    {
     "name": "stdout",
     "output_type": "stream",
     "text": [
      "Epoch:  20 | Accuracy : 59.2600%\n",
      "Model saved in: ./LeNet5-CIFAR10-61.14.pkl\n"
     ]
    },
    {
     "name": "stderr",
     "output_type": "stream",
     "text": [
      "\n"
     ]
    },
    {
     "data": {
      "image/png": "[encoded data removed]",
      "text/plain": [
       "<Figure size 640x480 with 1 Axes>"
      ]
     },
     "metadata": {},
     "output_type": "display_data"
    }
   ],
   "source": [
    "model = LeNet(num_classes=num_classes, n_channels=3, version='relu')\n",
    "\n",
    "model = model.to(device)\n",
    "\n",
    "prefix = 'CIFAR10-RELU-e-{}-lr-{}'.format(epochs, lr)\n",
    "\n",
    "best_model = train(model, train_loader, test_loader, batch_size, epochs, lr, prefix, device=device, save=True, debug=False, plot_histograms=False, lambda_reg=lambda_reg)\n"
   ]
  },
  {
   "cell_type": "markdown",
   "metadata": {},
   "source": [
    "## Prevendo amostra\n",
    "Para a previsão de amostras serão utilizados somente os modelos de maior desempenho dos testes anteriores.\n",
    "Sendo ambos utilizando ativação RELU."
   ]
  },
  {
   "cell_type": "code",
   "execution_count": null,
   "metadata": {},
   "outputs": [],
   "source": [
    "def sample_and_predict(net, test_loader, device, use_rgb=False):\n",
    "    dataset = test_loader.dataset\n",
    "\n",
    "    i = np.random.randint(len(dataset))\n",
    "    sample, label = dataset[i]\n",
    "\n",
    "    x = sample.float()\n",
    "\n",
    "    if use_rgb and x.shape[0] == 1:\n",
    "        x = x.expand(3, x.shape[1], x.shape[2])\n",
    "\n",
    "    x = x.unsqueeze(0).to(device)\n",
    "\n",
    "    y = net(x)\n",
    "    probs = torch.softmax(y, dim=1)\n",
    "    confidence, prediction = torch.max(probs, 1)\n",
    "\n",
    "    print(f'Sample: {i}')\n",
    "    plt.axis('off')\n",
    "    if x.shape[1] == 1:\n",
    "        plt.imshow(sample.squeeze(), cmap='gray')\n",
    "    else:\n",
    "        plt.imshow(np.transpose(sample.numpy(), (1, 2, 0)))\n",
    "\n",
    "    confidence = confidence.item()\n",
    "    prediction = prediction.item()\n",
    "\n",
    "    return prediction, confidence, label\n"
   ]
  },
  {
   "cell_type": "markdown",
   "metadata": {},
   "source": [
    "### MNIST"
   ]
  },
  {
   "cell_type": "code",
   "execution_count": 134,
   "metadata": {},
   "outputs": [
    {
     "name": "stdout",
     "output_type": "stream",
     "text": [
      "Sample: 4419\n",
      "\n",
      "Predicted clas: Oito \n",
      "Classifier confidence: 99.99% \n",
      "True label: Oito\n"
     ]
    },
    {
     "data": {
      "image/png": "[encoded data removed]",
      "text/plain": [
       "<Figure size 640x480 with 1 Axes>"
      ]
     },
     "metadata": {},
     "output_type": "display_data"
    }
   ],
   "source": [
    "mnist_classes = {\n",
    "    0: \"Zero\",\n",
    "    1: \"Um\",\n",
    "    2: \"Dois\",\n",
    "    3: \"Três\",\n",
    "    4: \"Quatro\",\n",
    "    5: \"Cinco\",\n",
    "    6: \"Seis\",\n",
    "    7: \"Sete\",\n",
    "    8: \"Oito\",\n",
    "    9: \"Nove\"\n",
    "}\n",
    "\n",
    "def load_LeNet_mnist ( device , path, n_channels ) :\n",
    "    net = LeNet(num_classes=10, n_channels=n_channels, version='relu')\n",
    "    net = net.to(device)\n",
    "    net.load_state_dict(torch.load(path))\n",
    "    net.eval()\n",
    "    return net\n",
    "\n",
    "path = './MNIST-RELU-99.02.pkl'\n",
    "n_channels = 1\n",
    "\n",
    "_, test_loader, _ = get_data_mnist(batch_size)\n",
    "lenet_mnist_relu = load_LeNet_mnist(device, path, n_channels)\n",
    "prediction, confidence, label = sample_and_predict(lenet_mnist_relu, test_loader, device)\n",
    "\n",
    "print( f'\\nPredicted clas: {mnist_classes[prediction]} \\nClassifier confidence: {confidence*100:4.2f}% \\nTrue label: {mnist_classes[label]}' )"
   ]
  },
  {
   "cell_type": "markdown",
   "metadata": {},
   "source": [
    "### CIFAR10"
   ]
  },
  {
   "cell_type": "code",
   "execution_count": 146,
   "metadata": {},
   "outputs": [
    {
     "name": "stderr",
     "output_type": "stream",
     "text": [
      "Clipping input data to the valid range for imshow with RGB data ([0..1] for floats or [0..255] for integers). Got range [-0.90588236..1.0].\n"
     ]
    },
    {
     "name": "stdout",
     "output_type": "stream",
     "text": [
      "Sample: 1629\n",
      "\n",
      "Predicted clas: Caminhão \n",
      "Classifier confidence: 98.20% \n",
      "True label: Caminhão\n"
     ]
    },
    {
     "data": {
      "image/png": "[encoded data removed]",
      "text/plain": [
       "<Figure size 640x480 with 1 Axes>"
      ]
     },
     "metadata": {},
     "output_type": "display_data"
    }
   ],
   "source": [
    "cifar10_classes = {\n",
    "    0: \"Avião\",\n",
    "    1: \"Automóvel\",\n",
    "    2: \"Pássaro\",\n",
    "    3: \"Gato\",\n",
    "    4: \"Veado\",\n",
    "    5: \"Cachorro\",\n",
    "    6: \"Sapo\",\n",
    "    7: \"Cavalo\",\n",
    "    8: \"Navio\",\n",
    "    9: \"Caminhão\"\n",
    "}\n",
    "\n",
    "def load_LeNet_cifar10 ( device , path, n_channels ) :\n",
    "    net = LeNet(num_classes=10, n_channels=n_channels, version='relu')\n",
    "    net = net.to(device)\n",
    "    net.load_state_dict(torch.load(path))\n",
    "    net.eval()\n",
    "    return net\n",
    "\n",
    "path = './CIFAR10-RELU-61.14.pkl'\n",
    "n_channels = 3\n",
    "_, test_loader, _ = get_data_cifar10(batch_size)\n",
    "\n",
    "lenet_cifar_relu = load_LeNet_cifar10(device, path, n_channels)\n",
    "prediction, confidence, label = sample_and_predict(lenet_cifar_relu, test_loader, device)\n",
    "\n",
    "print( f'\\nPredicted clas: {cifar10_classes[prediction]} \\nClassifier confidence: {confidence*100:4.2f}% \\nTrue label: {cifar10_classes[label]}' )"
   ]
  },
  {
   "cell_type": "markdown",
   "metadata": {},
   "source": [
    "## Análise de Resultados\n",
    "\n",
    "### MNIST\n",
    "Analisando os modelos treinados para o critério de alcançar 98% de acurácia em teste, observamos que a combinação Sigmoid e Tanh atingiu esse patamar apenas na 11ª época, quando chegou a 98,11% de acurácia. Por outro lado, o modelo com ReLU superou 98% já na 3ª época, alcançando a acurácia de 98,26%. \n",
    "\n",
    "O treinamento com ReLU apresentou um progresso muito rápido desde o início, já na primeira época a acurácia estava em 95,14%, subindo para 97,47% na segunda e superando 98% na terceira época. Após esse ponto, a curva de aprendizado estabilizou-se, mantendo valores acima de 98% com oscilações mínimas, o que indica uma convergência eficiente e estável. Por outro lado, o treino com Sigmoid e Tanh mostrou um comportamento diferente. Na primeira época, a acurácia foi de apenas 10,28%, enquanto na segunda, houve um salto considerável até 87,24%. Além disso, depois de atingir valores elevados, a curva oscilou entre 96% e 98,5%, sinalizando maior instabilidade ao longo do processo.\n",
    "\n",
    "Conclui-se que a ReLU demonstrou ser consideravelmente superior em eficiência de aprendizado e estabilidade, evitando problemas de gradiente saturado e convergindo rapidamente. Já o par Sigmoid e Tanh, embora capaz de atingir alta acurácia, precisou de muito mais épocas para treinar e apresentou maior variabilidade em seu desempenho.\n",
    "\n",
    "### CIFAR10\n",
    "O treinamento com ReLU mostrou uma evolução de acurácia muito mais rápida e consistente em comparação ao uso combinado de Sigmoid e Tanh. Logo na primeira época, o modelo com ReLU alcançou cerca de 40,89% de acurácia, subindo para 50,37% na terceira época e ultrapassando os 55% logo na quinta. A curva de aprendizado segue acelerada até a nona época, quando o desempenho se estabiliza em torno de 57%, com pequenas oscilações até bater o pico de 61,14% na décima quarta época.\n",
    "\n",
    "Por outro lado, o par Sigmoid e Tanh partiu de apenas 25,12% na época inicial e progrediu de forma mais lenta, atingindo 35,83% na terceira época e somente 41,99% na quinta. A partir da nona época, observa-se um platô em torno de 46% a 50%, com flutuações que culminaram em uma acurácia máxima de 53,31% apenas na décima sétima época. \n",
    "\n",
    "Quando comparamos o número de épocas necessárias para chegar a 98% de acurácia, vemos que nenhum dos dois modelos alcançou sequer 62% dentro das 20 épocas treinadas, esse comportamento é compreensível visto que o CIFAR10 é um dataset mais desafiador e com mais classes. Portanto, para atingir patamares mais elevados, seria preciso estender o número de épocas e revisar hiperparâmetros. De todo modo, a ReLU permanece a opção preferível entre essas duas funções de ativação, graças à sua capacidade de acelerar a convergência e alcançar níveis de desempenho bem mais altos em menos épocas.\n"
   ]
  }
 ],
 "metadata": {
  "colab": {
   "collapsed_sections": [
    "rUZVS7myuD7Z",
    "QjE_rDZOmfd6",
    "36XRAIEHubdR",
    "Cf2RJcWTuigS"
   ],
   "name": "pytorch-LeNet-5-YannLecun-Paper.ipynb",
   "provenance": [],
   "toc_visible": true
  },
  "kernelspec": {
   "display_name": "Python 3 (ipykernel)",
   "language": "python",
   "name": "python3"
  },
  "language_info": {
   "codemirror_mode": {
    "name": "ipython",
    "version": 3
   },
   "file_extension": ".py",
   "mimetype": "text/x-python",
   "name": "python",
   "nbconvert_exporter": "python",
   "pygments_lexer": "ipython3",
   "version": "3.12.5"
  }
 },
 "nbformat": 4,
 "nbformat_minor": 4
}
